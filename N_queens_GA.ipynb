{
  "nbformat": 4,
  "nbformat_minor": 0,
  "metadata": {
    "colab": {
      "provenance": [],
      "authorship_tag": "ABX9TyNhyrT6Q41YUjg5oKfhV+zR",
      "include_colab_link": true
    },
    "kernelspec": {
      "name": "python3",
      "display_name": "Python 3"
    },
    "language_info": {
      "name": "python"
    }
  },
  "cells": [
    {
      "cell_type": "markdown",
      "metadata": {
        "id": "view-in-github",
        "colab_type": "text"
      },
      "source": [
        "<a href=\"https://colab.research.google.com/github/nimarta-devi/Emojify/blob/master/N_queens_GA.ipynb\" target=\"_parent\"><img src=\"https://colab.research.google.com/assets/colab-badge.svg\" alt=\"Open In Colab\"/></a>"
      ]
    },
    {
      "cell_type": "code",
      "source": [
        "import random"
      ],
      "metadata": {
        "id": "uyN3LbO4atUn"
      },
      "execution_count": 8,
      "outputs": []
    },
    {
      "cell_type": "code",
      "source": [
        "def generate_chromosome(size):  \n",
        "    return [ random.randint(1, nq) for _ in range(nq) ]"
      ],
      "metadata": {
        "id": "kTGjDY-ga168"
      },
      "execution_count": 9,
      "outputs": []
    },
    {
      "cell_type": "code",
      "source": [
        "def fitness(chromosome):\n",
        "    horizontal_collisions = sum([chromosome.count(queen)-1 for queen in chromosome])/2\n",
        "    diagonal_collisions = 0\n",
        "\n",
        "    n = len(chromosome)\n",
        "    left_diagonal = [0] * 2*n\n",
        "    right_diagonal = [0] * 2*n\n",
        "    for i in range(n):\n",
        "        left_diagonal[i + chromosome[i] - 1] += 1\n",
        "        right_diagonal[len(chromosome) - i + chromosome[i] - 2] += 1\n",
        "\n",
        "    diagonal_collisions = 0\n",
        "    for i in range(2*n-1):\n",
        "        counter = 0\n",
        "        if left_diagonal[i] > 1:\n",
        "            counter += left_diagonal[i]-1\n",
        "        if right_diagonal[i] > 1:\n",
        "            counter += right_diagonal[i]-1\n",
        "        diagonal_collisions += counter / (n-abs(i-n+1))\n",
        "    \n",
        "    return int(maxFitness - (horizontal_collisions + diagonal_collisions)) #28-(2+3)=23"
      ],
      "metadata": {
        "id": "RfcNsOi4atjR"
      },
      "execution_count": 10,
      "outputs": []
    },
    {
      "cell_type": "code",
      "source": [
        "def probability(chromosome, fitness):\n",
        "    return fitness(chromosome) / maxFitness"
      ],
      "metadata": {
        "id": "k6lfZ3rnatog"
      },
      "execution_count": 11,
      "outputs": []
    },
    {
      "cell_type": "code",
      "source": [
        "def random_pick(population, probabilities):\n",
        "    populationWithProbabilty = zip(population, probabilities)\n",
        "    total = sum(w for c, w in populationWithProbabilty)\n",
        "    r = random.uniform(0, total)\n",
        "    upto = 0\n",
        "    for c, w in zip(population, probabilities):\n",
        "        if upto + w >= r:\n",
        "            return c\n",
        "        upto += w\n",
        "    assert False, \"Shouldn't get here\"       "
      ],
      "metadata": {
        "id": "dZ7GeVBKatpu"
      },
      "execution_count": 12,
      "outputs": []
    },
    {
      "cell_type": "code",
      "source": [
        "def _reproduce(x, y):                     #     cross_over between two chromosomes\n",
        "    n = len(x)\n",
        "    c = random.randint(0, n - 1)\n",
        "    return x[0:c] + y[c:n]"
      ],
      "metadata": {
        "id": "-9dHv80vS5fD"
      },
      "execution_count": 13,
      "outputs": []
    },
    {
      "cell_type": "code",
      "source": [
        "def _mutate(x):                           #     randomly change the value of a random index of a chromosome\n",
        "    n = len(x)\n",
        "    c = random.randint(0, n - 1)\n",
        "    m = random.randint(1, n)\n",
        "    x[c] = m\n",
        "    return x"
      ],
      "metadata": {
        "id": "GAiR8MV_bKY-"
      },
      "execution_count": 14,
      "outputs": []
    },
    {
      "cell_type": "code",
      "source": [
        "def genetic_queen(population, fitness):\n",
        "    mutation_probability = 0.03\n",
        "    new_population = []\n",
        "    probabilities = [probability(n, fitness) for n in population]\n",
        "    for i in range(len(population)):\n",
        "        x = random_pick(population, probabilities)    #    best chromosome 1\n",
        "        y = random_pick(population, probabilities)    #    best chromosome 2\n",
        "        child = _reproduce(x, y)                      #    creating two new chromosomes from the best 2 chromosomes\n",
        "        if random.random() < mutation_probability:\n",
        "            child = _mutate(child)\n",
        "        print_chromosome(child)\n",
        "        new_population.append(child)\n",
        "        if fitness(child) == maxFitness: \n",
        "          break\n",
        "    return new_population"
      ],
      "metadata": {
        "id": "tGdvXNQobOKA"
      },
      "execution_count": 15,
      "outputs": []
    },
    {
      "cell_type": "code",
      "source": [
        "def print_chromosome(chromosome):\n",
        "    print(\"Chromosome = {},  Fitness Score= {}\".format(str(chromosome), fitness(chromosome)))"
      ],
      "metadata": {
        "id": "Ts82pCylbTqK"
      },
      "execution_count": 16,
      "outputs": []
    },
    {
      "cell_type": "code",
      "execution_count": 18,
      "metadata": {
        "colab": {
          "base_uri": "https://localhost:8080/"
        },
        "id": "IiiFmlueDs9G",
        "outputId": "fe411045-ee40-4728-e889-7fdb915271f0"
      },
      "outputs": [
        {
          "output_type": "stream",
          "name": "stdout",
          "text": [
            "Enter Number of Queens: 5\n",
            "Solved in Generation 0\n",
            "\n",
            "Solution: \n",
            "Chromosome = [3, 1, 4, 2, 5],  Fitness Score= 10\n",
            "\n",
            "x x x x Q\n",
            "x x Q x x\n",
            "Q x x x x\n",
            "x x x Q x\n",
            "x Q x x x\n"
          ]
        }
      ],
      "source": [
        "if __name__ == \"__main__\":\n",
        "    nq = int(input(\"Enter Number of Queens: \"))                   #   [e.g. N = 6]\n",
        "    maxFitness = (nq*(nq-1))/2                                    #   [6*5/2 = 28 (i.e. target fitness)]\n",
        "    population = [generate_chromosome(nq) for _ in range(100)]\n",
        "    \n",
        "    generation = 1\n",
        "\n",
        "    while not maxFitness in [fitness(chrom) for chrom in population]:\n",
        "        print(\"Generation Count {}\".format(generation))\n",
        "        population = genetic_queen(population, fitness)\n",
        "        print(\"\")\n",
        "        print(\"Maximum Fitness Score = {}\".format(max([fitness(n) for n in population])))\n",
        "        generation += 1\n",
        "    chrom_out = []\n",
        "    print(\"Solved in Generation {}\".format(generation-1))\n",
        "    for ch in population:\n",
        "        if fitness(ch) == maxFitness:\n",
        "            print(\"\");\n",
        "            print(\"Solution: \")\n",
        "            chrom_out = ch\n",
        "            print_chromosome(ch)\n",
        "            \n",
        "    grid = []\n",
        "\n",
        "    for x in range(nq):\n",
        "        grid.append([\"x\"] * nq)\n",
        "        \n",
        "    for i in range(nq):\n",
        "        grid[nq-chrom_out[i]][i] = \"Q\"\n",
        "            \n",
        "\n",
        "    def print_grid(grid):\n",
        "        for row in grid:\n",
        "            print (\" \".join(row))\n",
        "            \n",
        "    print()\n",
        "    print_grid(grid)"
      ]
    },
    {
      "cell_type": "code",
      "source": [],
      "metadata": {
        "id": "S60zVDMPglPt"
      },
      "execution_count": null,
      "outputs": []
    }
  ]
}